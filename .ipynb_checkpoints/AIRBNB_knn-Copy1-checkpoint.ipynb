{
 "cells": [
  {
   "cell_type": "code",
   "execution_count": 1,
   "metadata": {},
   "outputs": [],
   "source": [
    "import pandas as pd\n",
    "import numpy as np\n",
    "import matplotlib.pyplot as plt\n",
    "import utm"
   ]
  },
  {
   "cell_type": "code",
   "execution_count": 2,
   "metadata": {},
   "outputs": [],
   "source": [
    "df = pd.read_csv('../data/AB_NYC_2019.csv')"
   ]
  },
  {
   "cell_type": "code",
   "execution_count": 3,
   "metadata": {},
   "outputs": [
    {
     "data": {
      "text/html": [
       "<div>\n",
       "<style scoped>\n",
       "    .dataframe tbody tr th:only-of-type {\n",
       "        vertical-align: middle;\n",
       "    }\n",
       "\n",
       "    .dataframe tbody tr th {\n",
       "        vertical-align: top;\n",
       "    }\n",
       "\n",
       "    .dataframe thead th {\n",
       "        text-align: right;\n",
       "    }\n",
       "</style>\n",
       "<table border=\"1\" class=\"dataframe\">\n",
       "  <thead>\n",
       "    <tr style=\"text-align: right;\">\n",
       "      <th></th>\n",
       "      <th>id</th>\n",
       "      <th>name</th>\n",
       "      <th>host_id</th>\n",
       "      <th>host_name</th>\n",
       "      <th>neighbourhood_group</th>\n",
       "      <th>neighbourhood</th>\n",
       "      <th>latitude</th>\n",
       "      <th>longitude</th>\n",
       "      <th>room_type</th>\n",
       "      <th>price</th>\n",
       "      <th>minimum_nights</th>\n",
       "      <th>number_of_reviews</th>\n",
       "      <th>last_review</th>\n",
       "      <th>reviews_per_month</th>\n",
       "      <th>calculated_host_listings_count</th>\n",
       "      <th>availability_365</th>\n",
       "    </tr>\n",
       "  </thead>\n",
       "  <tbody>\n",
       "    <tr>\n",
       "      <td>0</td>\n",
       "      <td>2539</td>\n",
       "      <td>Clean &amp; quiet apt home by the park</td>\n",
       "      <td>2787</td>\n",
       "      <td>John</td>\n",
       "      <td>Brooklyn</td>\n",
       "      <td>Kensington</td>\n",
       "      <td>40.64749</td>\n",
       "      <td>-73.97237</td>\n",
       "      <td>Private room</td>\n",
       "      <td>149</td>\n",
       "      <td>1</td>\n",
       "      <td>9</td>\n",
       "      <td>2018-10-19</td>\n",
       "      <td>0.21</td>\n",
       "      <td>6</td>\n",
       "      <td>365</td>\n",
       "    </tr>\n",
       "    <tr>\n",
       "      <td>1</td>\n",
       "      <td>2595</td>\n",
       "      <td>Skylit Midtown Castle</td>\n",
       "      <td>2845</td>\n",
       "      <td>Jennifer</td>\n",
       "      <td>Manhattan</td>\n",
       "      <td>Midtown</td>\n",
       "      <td>40.75362</td>\n",
       "      <td>-73.98377</td>\n",
       "      <td>Entire home/apt</td>\n",
       "      <td>225</td>\n",
       "      <td>1</td>\n",
       "      <td>45</td>\n",
       "      <td>2019-05-21</td>\n",
       "      <td>0.38</td>\n",
       "      <td>2</td>\n",
       "      <td>355</td>\n",
       "    </tr>\n",
       "    <tr>\n",
       "      <td>2</td>\n",
       "      <td>3647</td>\n",
       "      <td>THE VILLAGE OF HARLEM....NEW YORK !</td>\n",
       "      <td>4632</td>\n",
       "      <td>Elisabeth</td>\n",
       "      <td>Manhattan</td>\n",
       "      <td>Harlem</td>\n",
       "      <td>40.80902</td>\n",
       "      <td>-73.94190</td>\n",
       "      <td>Private room</td>\n",
       "      <td>150</td>\n",
       "      <td>3</td>\n",
       "      <td>0</td>\n",
       "      <td>NaN</td>\n",
       "      <td>NaN</td>\n",
       "      <td>1</td>\n",
       "      <td>365</td>\n",
       "    </tr>\n",
       "    <tr>\n",
       "      <td>3</td>\n",
       "      <td>3831</td>\n",
       "      <td>Cozy Entire Floor of Brownstone</td>\n",
       "      <td>4869</td>\n",
       "      <td>LisaRoxanne</td>\n",
       "      <td>Brooklyn</td>\n",
       "      <td>Clinton Hill</td>\n",
       "      <td>40.68514</td>\n",
       "      <td>-73.95976</td>\n",
       "      <td>Entire home/apt</td>\n",
       "      <td>89</td>\n",
       "      <td>1</td>\n",
       "      <td>270</td>\n",
       "      <td>2019-07-05</td>\n",
       "      <td>4.64</td>\n",
       "      <td>1</td>\n",
       "      <td>194</td>\n",
       "    </tr>\n",
       "    <tr>\n",
       "      <td>4</td>\n",
       "      <td>5022</td>\n",
       "      <td>Entire Apt: Spacious Studio/Loft by central park</td>\n",
       "      <td>7192</td>\n",
       "      <td>Laura</td>\n",
       "      <td>Manhattan</td>\n",
       "      <td>East Harlem</td>\n",
       "      <td>40.79851</td>\n",
       "      <td>-73.94399</td>\n",
       "      <td>Entire home/apt</td>\n",
       "      <td>80</td>\n",
       "      <td>10</td>\n",
       "      <td>9</td>\n",
       "      <td>2018-11-19</td>\n",
       "      <td>0.10</td>\n",
       "      <td>1</td>\n",
       "      <td>0</td>\n",
       "    </tr>\n",
       "  </tbody>\n",
       "</table>\n",
       "</div>"
      ],
      "text/plain": [
       "     id                                              name  host_id  \\\n",
       "0  2539                Clean & quiet apt home by the park     2787   \n",
       "1  2595                             Skylit Midtown Castle     2845   \n",
       "2  3647               THE VILLAGE OF HARLEM....NEW YORK !     4632   \n",
       "3  3831                   Cozy Entire Floor of Brownstone     4869   \n",
       "4  5022  Entire Apt: Spacious Studio/Loft by central park     7192   \n",
       "\n",
       "     host_name neighbourhood_group neighbourhood  latitude  longitude  \\\n",
       "0         John            Brooklyn    Kensington  40.64749  -73.97237   \n",
       "1     Jennifer           Manhattan       Midtown  40.75362  -73.98377   \n",
       "2    Elisabeth           Manhattan        Harlem  40.80902  -73.94190   \n",
       "3  LisaRoxanne            Brooklyn  Clinton Hill  40.68514  -73.95976   \n",
       "4        Laura           Manhattan   East Harlem  40.79851  -73.94399   \n",
       "\n",
       "         room_type  price  minimum_nights  number_of_reviews last_review  \\\n",
       "0     Private room    149               1                  9  2018-10-19   \n",
       "1  Entire home/apt    225               1                 45  2019-05-21   \n",
       "2     Private room    150               3                  0         NaN   \n",
       "3  Entire home/apt     89               1                270  2019-07-05   \n",
       "4  Entire home/apt     80              10                  9  2018-11-19   \n",
       "\n",
       "   reviews_per_month  calculated_host_listings_count  availability_365  \n",
       "0               0.21                               6               365  \n",
       "1               0.38                               2               355  \n",
       "2                NaN                               1               365  \n",
       "3               4.64                               1               194  \n",
       "4               0.10                               1                 0  "
      ]
     },
     "execution_count": 3,
     "metadata": {},
     "output_type": "execute_result"
    }
   ],
   "source": [
    "df.head()"
   ]
  },
  {
   "cell_type": "code",
   "execution_count": 4,
   "metadata": {},
   "outputs": [
    {
     "data": {
      "text/plain": [
       "(48895, 16)"
      ]
     },
     "execution_count": 4,
     "metadata": {},
     "output_type": "execute_result"
    }
   ],
   "source": [
    "df.shape"
   ]
  },
  {
   "cell_type": "code",
   "execution_count": 5,
   "metadata": {},
   "outputs": [],
   "source": [
    "# We transform latitude and longitude in UTM coordinates. Because the Earth portion at which we are looking is quite small, UTM provides enough accuracy.\n",
    "df['utm'] = df.apply(lambda row : utm.from_latlon(row.latitude, row.longitude)[:2], axis=1)\n",
    "df['utm_x'] = df.apply(lambda row : row.utm[0], axis=1)\n",
    "df['utm_y'] = df.apply(lambda row : row.utm[1], axis=1)"
   ]
  },
  {
   "cell_type": "code",
   "execution_count": 6,
   "metadata": {},
   "outputs": [],
   "source": [
    "df = df.drop(columns=['name', 'host_name', 'minimum_nights', 'last_review', 'latitude', 'longitude']) #We drop the features we won't use\n",
    "#df = df[df.reviews_per_month.notna()] # we drop the airbnb without review_per_month\n",
    "df = df[df.availability_365 != 0] # We drop Airbnb that are not available"
   ]
  },
  {
   "cell_type": "code",
   "execution_count": 7,
   "metadata": {},
   "outputs": [
    {
     "data": {
      "text/html": [
       "<div>\n",
       "<style scoped>\n",
       "    .dataframe tbody tr th:only-of-type {\n",
       "        vertical-align: middle;\n",
       "    }\n",
       "\n",
       "    .dataframe tbody tr th {\n",
       "        vertical-align: top;\n",
       "    }\n",
       "\n",
       "    .dataframe thead th {\n",
       "        text-align: right;\n",
       "    }\n",
       "</style>\n",
       "<table border=\"1\" class=\"dataframe\">\n",
       "  <thead>\n",
       "    <tr style=\"text-align: right;\">\n",
       "      <th></th>\n",
       "      <th>id</th>\n",
       "      <th>host_id</th>\n",
       "      <th>neighbourhood_group</th>\n",
       "      <th>neighbourhood</th>\n",
       "      <th>room_type</th>\n",
       "      <th>price</th>\n",
       "      <th>number_of_reviews</th>\n",
       "      <th>reviews_per_month</th>\n",
       "      <th>calculated_host_listings_count</th>\n",
       "      <th>availability_365</th>\n",
       "      <th>utm</th>\n",
       "      <th>utm_x</th>\n",
       "      <th>utm_y</th>\n",
       "    </tr>\n",
       "  </thead>\n",
       "  <tbody>\n",
       "    <tr>\n",
       "      <td>0</td>\n",
       "      <td>2539</td>\n",
       "      <td>2787</td>\n",
       "      <td>Brooklyn</td>\n",
       "      <td>Kensington</td>\n",
       "      <td>Private room</td>\n",
       "      <td>149</td>\n",
       "      <td>9</td>\n",
       "      <td>0.21</td>\n",
       "      <td>6</td>\n",
       "      <td>365</td>\n",
       "      <td>(586884.7816290552, 4500133.886065807)</td>\n",
       "      <td>586884.781629</td>\n",
       "      <td>4.500134e+06</td>\n",
       "    </tr>\n",
       "    <tr>\n",
       "      <td>1</td>\n",
       "      <td>2595</td>\n",
       "      <td>2845</td>\n",
       "      <td>Manhattan</td>\n",
       "      <td>Midtown</td>\n",
       "      <td>Entire home/apt</td>\n",
       "      <td>225</td>\n",
       "      <td>45</td>\n",
       "      <td>0.38</td>\n",
       "      <td>2</td>\n",
       "      <td>355</td>\n",
       "      <td>(585784.6348931462, 4511903.790469252)</td>\n",
       "      <td>585784.634893</td>\n",
       "      <td>4.511904e+06</td>\n",
       "    </tr>\n",
       "    <tr>\n",
       "      <td>2</td>\n",
       "      <td>3647</td>\n",
       "      <td>4632</td>\n",
       "      <td>Manhattan</td>\n",
       "      <td>Harlem</td>\n",
       "      <td>Private room</td>\n",
       "      <td>150</td>\n",
       "      <td>0</td>\n",
       "      <td>NaN</td>\n",
       "      <td>1</td>\n",
       "      <td>365</td>\n",
       "      <td>(589244.9423654521, 4518095.410242636)</td>\n",
       "      <td>589244.942365</td>\n",
       "      <td>4.518095e+06</td>\n",
       "    </tr>\n",
       "    <tr>\n",
       "      <td>3</td>\n",
       "      <td>3831</td>\n",
       "      <td>4869</td>\n",
       "      <td>Brooklyn</td>\n",
       "      <td>Clinton Hill</td>\n",
       "      <td>Entire home/apt</td>\n",
       "      <td>89</td>\n",
       "      <td>270</td>\n",
       "      <td>4.64</td>\n",
       "      <td>1</td>\n",
       "      <td>194</td>\n",
       "      <td>(587901.5063912352, 4504325.790207911)</td>\n",
       "      <td>587901.506391</td>\n",
       "      <td>4.504326e+06</td>\n",
       "    </tr>\n",
       "    <tr>\n",
       "      <td>5</td>\n",
       "      <td>5099</td>\n",
       "      <td>7322</td>\n",
       "      <td>Manhattan</td>\n",
       "      <td>Murray Hill</td>\n",
       "      <td>Entire home/apt</td>\n",
       "      <td>200</td>\n",
       "      <td>74</td>\n",
       "      <td>0.59</td>\n",
       "      <td>1</td>\n",
       "      <td>129</td>\n",
       "      <td>(586532.6765230333, 4511251.906660662)</td>\n",
       "      <td>586532.676523</td>\n",
       "      <td>4.511252e+06</td>\n",
       "    </tr>\n",
       "  </tbody>\n",
       "</table>\n",
       "</div>"
      ],
      "text/plain": [
       "     id  host_id neighbourhood_group neighbourhood        room_type  price  \\\n",
       "0  2539     2787            Brooklyn    Kensington     Private room    149   \n",
       "1  2595     2845           Manhattan       Midtown  Entire home/apt    225   \n",
       "2  3647     4632           Manhattan        Harlem     Private room    150   \n",
       "3  3831     4869            Brooklyn  Clinton Hill  Entire home/apt     89   \n",
       "5  5099     7322           Manhattan   Murray Hill  Entire home/apt    200   \n",
       "\n",
       "   number_of_reviews  reviews_per_month  calculated_host_listings_count  \\\n",
       "0                  9               0.21                               6   \n",
       "1                 45               0.38                               2   \n",
       "2                  0                NaN                               1   \n",
       "3                270               4.64                               1   \n",
       "5                 74               0.59                               1   \n",
       "\n",
       "   availability_365                                     utm          utm_x  \\\n",
       "0               365  (586884.7816290552, 4500133.886065807)  586884.781629   \n",
       "1               355  (585784.6348931462, 4511903.790469252)  585784.634893   \n",
       "2               365  (589244.9423654521, 4518095.410242636)  589244.942365   \n",
       "3               194  (587901.5063912352, 4504325.790207911)  587901.506391   \n",
       "5               129  (586532.6765230333, 4511251.906660662)  586532.676523   \n",
       "\n",
       "          utm_y  \n",
       "0  4.500134e+06  \n",
       "1  4.511904e+06  \n",
       "2  4.518095e+06  \n",
       "3  4.504326e+06  \n",
       "5  4.511252e+06  "
      ]
     },
     "execution_count": 7,
     "metadata": {},
     "output_type": "execute_result"
    }
   ],
   "source": [
    "df.head()"
   ]
  },
  {
   "cell_type": "code",
   "execution_count": 8,
   "metadata": {},
   "outputs": [],
   "source": [
    "# only taking a sample of the full dataframe, 50'000 Airbnb lead to too much computations.\n",
    "seed = 1\n",
    "n = 5000\n",
    "df_red = df.sample(n, random_state=seed)"
   ]
  },
  {
   "cell_type": "code",
   "execution_count": 9,
   "metadata": {},
   "outputs": [
    {
     "data": {
      "image/png": "[encoded data removed]",
      "text/plain": [
       "<Figure size 432x288 with 1 Axes>"
      ]
     },
     "metadata": {
      "needs_background": "light"
     },
     "output_type": "display_data"
    }
   ],
   "source": [
    "# boxplot of the price values, we see a lot of outliers\n",
    "plt.boxplot(df_red.price);"
   ]
  },
  {
   "cell_type": "code",
   "execution_count": 10,
   "metadata": {},
   "outputs": [
    {
     "data": {
      "text/plain": [
       "0.25     70.0\n",
       "0.50    110.0\n",
       "0.75    186.0\n",
       "0.95    399.0\n",
       "Name: price, dtype: float64"
      ]
     },
     "execution_count": 10,
     "metadata": {},
     "output_type": "execute_result"
    }
   ],
   "source": [
    "# with quantiles\n",
    "df_red.price.quantile([0.25,0.5,0.75,0.95])"
   ]
  },
  {
   "cell_type": "code",
   "execution_count": 11,
   "metadata": {},
   "outputs": [
    {
     "data": {
      "text/plain": [
       "(4755, 13)"
      ]
     },
     "execution_count": 11,
     "metadata": {},
     "output_type": "execute_result"
    }
   ],
   "source": [
    "# Because it's hard to deal with outliers in ML, we decide to only keep airbnbs with a price less than the 0.95 quantile\n",
    "# Also, we make the assumption that close AirBnb are about the same pricethe goal is to find best airbnb, so best value for money.\n",
    "upper_bound = df_red.price.quantile([0.95]).values[0]\n",
    "df_red = df_red[df_red.price <= upper_bound]\n",
    "df_red.shape"
   ]
  },
  {
   "cell_type": "code",
   "execution_count": 12,
   "metadata": {},
   "outputs": [],
   "source": [
    "# standardizing the UTM coordinates\n",
    "df_red.utm_x = (df_red.utm_x - df_red.utm_x.mean()) / df_red.utm_x.std()\n",
    "df_red.utm_y = (df_red.utm_y - df_red.utm_y.mean()) / df_red.utm_y.std()\n",
    "df_coord = df_red[['utm_x', 'utm_y']]"
   ]
  },
  {
   "cell_type": "code",
   "execution_count": 13,
   "metadata": {},
   "outputs": [
    {
     "data": {
      "text/html": [
       "<div>\n",
       "<style scoped>\n",
       "    .dataframe tbody tr th:only-of-type {\n",
       "        vertical-align: middle;\n",
       "    }\n",
       "\n",
       "    .dataframe tbody tr th {\n",
       "        vertical-align: top;\n",
       "    }\n",
       "\n",
       "    .dataframe thead th {\n",
       "        text-align: right;\n",
       "    }\n",
       "</style>\n",
       "<table border=\"1\" class=\"dataframe\">\n",
       "  <thead>\n",
       "    <tr style=\"text-align: right;\">\n",
       "      <th></th>\n",
       "      <th>utm_x</th>\n",
       "      <th>utm_y</th>\n",
       "    </tr>\n",
       "  </thead>\n",
       "  <tbody>\n",
       "    <tr>\n",
       "      <td>15798</td>\n",
       "      <td>-0.365937</td>\n",
       "      <td>0.580090</td>\n",
       "    </tr>\n",
       "    <tr>\n",
       "      <td>44065</td>\n",
       "      <td>-0.990046</td>\n",
       "      <td>0.227610</td>\n",
       "    </tr>\n",
       "    <tr>\n",
       "      <td>46315</td>\n",
       "      <td>3.168360</td>\n",
       "      <td>0.599703</td>\n",
       "    </tr>\n",
       "    <tr>\n",
       "      <td>2647</td>\n",
       "      <td>-1.309758</td>\n",
       "      <td>-0.911182</td>\n",
       "    </tr>\n",
       "    <tr>\n",
       "      <td>13805</td>\n",
       "      <td>0.363898</td>\n",
       "      <td>-0.478423</td>\n",
       "    </tr>\n",
       "  </tbody>\n",
       "</table>\n",
       "</div>"
      ],
      "text/plain": [
       "          utm_x     utm_y\n",
       "15798 -0.365937  0.580090\n",
       "44065 -0.990046  0.227610\n",
       "46315  3.168360  0.599703\n",
       "2647  -1.309758 -0.911182\n",
       "13805  0.363898 -0.478423"
      ]
     },
     "execution_count": 13,
     "metadata": {},
     "output_type": "execute_result"
    }
   ],
   "source": [
    "df_coord.head()"
   ]
  },
  {
   "cell_type": "code",
   "execution_count": 14,
   "metadata": {},
   "outputs": [],
   "source": [
    "# computing distance between all airbnbs.\n",
    "from scipy.spatial.distance import squareform, pdist\n",
    "df_dist = pd.DataFrame(squareform(pdist(df_coord.iloc[:, 0:])), columns=df_coord.index, index=df_coord.index)"
   ]
  },
  {
   "cell_type": "code",
   "execution_count": 15,
   "metadata": {},
   "outputs": [
    {
     "data": {
      "text/html": [
       "<div>\n",
       "<style scoped>\n",
       "    .dataframe tbody tr th:only-of-type {\n",
       "        vertical-align: middle;\n",
       "    }\n",
       "\n",
       "    .dataframe tbody tr th {\n",
       "        vertical-align: top;\n",
       "    }\n",
       "\n",
       "    .dataframe thead th {\n",
       "        text-align: right;\n",
       "    }\n",
       "</style>\n",
       "<table border=\"1\" class=\"dataframe\">\n",
       "  <thead>\n",
       "    <tr style=\"text-align: right;\">\n",
       "      <th></th>\n",
       "      <th>15798</th>\n",
       "      <th>44065</th>\n",
       "      <th>46315</th>\n",
       "      <th>2647</th>\n",
       "      <th>13805</th>\n",
       "      <th>30989</th>\n",
       "      <th>12238</th>\n",
       "      <th>25538</th>\n",
       "      <th>40356</th>\n",
       "      <th>40287</th>\n",
       "      <th>...</th>\n",
       "      <th>21009</th>\n",
       "      <th>46961</th>\n",
       "      <th>30665</th>\n",
       "      <th>33976</th>\n",
       "      <th>36670</th>\n",
       "      <th>36221</th>\n",
       "      <th>21970</th>\n",
       "      <th>39628</th>\n",
       "      <th>46991</th>\n",
       "      <th>32698</th>\n",
       "    </tr>\n",
       "  </thead>\n",
       "  <tbody>\n",
       "    <tr>\n",
       "      <td>15798</td>\n",
       "      <td>0.000000</td>\n",
       "      <td>0.716767</td>\n",
       "      <td>3.534351</td>\n",
       "      <td>1.764849</td>\n",
       "      <td>1.285732</td>\n",
       "      <td>1.845839</td>\n",
       "      <td>0.471759</td>\n",
       "      <td>4.547376</td>\n",
       "      <td>0.586882</td>\n",
       "      <td>0.187982</td>\n",
       "      <td>...</td>\n",
       "      <td>2.099131</td>\n",
       "      <td>1.245992</td>\n",
       "      <td>2.196346</td>\n",
       "      <td>2.543072</td>\n",
       "      <td>1.350018</td>\n",
       "      <td>0.740253</td>\n",
       "      <td>0.475870</td>\n",
       "      <td>4.226575</td>\n",
       "      <td>0.943853</td>\n",
       "      <td>1.521296</td>\n",
       "    </tr>\n",
       "    <tr>\n",
       "      <td>44065</td>\n",
       "      <td>0.716767</td>\n",
       "      <td>0.000000</td>\n",
       "      <td>4.175020</td>\n",
       "      <td>1.182820</td>\n",
       "      <td>1.526973</td>\n",
       "      <td>2.416884</td>\n",
       "      <td>0.935637</td>\n",
       "      <td>5.182765</td>\n",
       "      <td>0.278077</td>\n",
       "      <td>0.900888</td>\n",
       "      <td>...</td>\n",
       "      <td>2.654907</td>\n",
       "      <td>1.836980</td>\n",
       "      <td>2.177469</td>\n",
       "      <td>3.188312</td>\n",
       "      <td>1.663326</td>\n",
       "      <td>0.401294</td>\n",
       "      <td>1.168858</td>\n",
       "      <td>4.693931</td>\n",
       "      <td>0.345630</td>\n",
       "      <td>1.844240</td>\n",
       "    </tr>\n",
       "    <tr>\n",
       "      <td>46315</td>\n",
       "      <td>3.534351</td>\n",
       "      <td>4.175020</td>\n",
       "      <td>0.000000</td>\n",
       "      <td>4.726131</td>\n",
       "      <td>3.004557</td>\n",
       "      <td>1.804695</td>\n",
       "      <td>3.701907</td>\n",
       "      <td>1.013516</td>\n",
       "      <td>4.117167</td>\n",
       "      <td>3.397439</td>\n",
       "      <td>...</td>\n",
       "      <td>1.619761</td>\n",
       "      <td>3.365931</td>\n",
       "      <td>3.530021</td>\n",
       "      <td>0.991279</td>\n",
       "      <td>2.816094</td>\n",
       "      <td>3.946084</td>\n",
       "      <td>3.266894</td>\n",
       "      <td>1.735079</td>\n",
       "      <td>4.231004</td>\n",
       "      <td>2.699155</td>\n",
       "    </tr>\n",
       "    <tr>\n",
       "      <td>2647</td>\n",
       "      <td>1.764849</td>\n",
       "      <td>1.182820</td>\n",
       "      <td>4.726131</td>\n",
       "      <td>0.000000</td>\n",
       "      <td>1.728700</td>\n",
       "      <td>2.927398</td>\n",
       "      <td>2.099872</td>\n",
       "      <td>5.687325</td>\n",
       "      <td>1.459259</td>\n",
       "      <td>1.946915</td>\n",
       "      <td>...</td>\n",
       "      <td>3.108523</td>\n",
       "      <td>2.986853</td>\n",
       "      <td>1.745296</td>\n",
       "      <td>3.798026</td>\n",
       "      <td>1.916919</td>\n",
       "      <td>1.027262</td>\n",
       "      <td>2.239401</td>\n",
       "      <td>4.825417</td>\n",
       "      <td>0.851182</td>\n",
       "      <td>2.055035</td>\n",
       "    </tr>\n",
       "    <tr>\n",
       "      <td>13805</td>\n",
       "      <td>1.285732</td>\n",
       "      <td>1.526973</td>\n",
       "      <td>3.004557</td>\n",
       "      <td>1.728700</td>\n",
       "      <td>0.000000</td>\n",
       "      <td>1.224761</td>\n",
       "      <td>1.742347</td>\n",
       "      <td>3.958759</td>\n",
       "      <td>1.637763</td>\n",
       "      <td>1.324819</td>\n",
       "      <td>...</td>\n",
       "      <td>1.384795</td>\n",
       "      <td>2.273433</td>\n",
       "      <td>1.024344</td>\n",
       "      <td>2.106820</td>\n",
       "      <td>0.188648</td>\n",
       "      <td>1.158892</td>\n",
       "      <td>1.504456</td>\n",
       "      <td>3.209002</td>\n",
       "      <td>1.412071</td>\n",
       "      <td>0.340878</td>\n",
       "    </tr>\n",
       "  </tbody>\n",
       "</table>\n",
       "<p>5 rows × 4755 columns</p>\n",
       "</div>"
      ],
      "text/plain": [
       "          15798     44065     46315     2647      13805     30989     12238  \\\n",
       "15798  0.000000  0.716767  3.534351  1.764849  1.285732  1.845839  0.471759   \n",
       "44065  0.716767  0.000000  4.175020  1.182820  1.526973  2.416884  0.935637   \n",
       "46315  3.534351  4.175020  0.000000  4.726131  3.004557  1.804695  3.701907   \n",
       "2647   1.764849  1.182820  4.726131  0.000000  1.728700  2.927398  2.099872   \n",
       "13805  1.285732  1.526973  3.004557  1.728700  0.000000  1.224761  1.742347   \n",
       "\n",
       "          25538     40356     40287  ...     21009     46961     30665  \\\n",
       "15798  4.547376  0.586882  0.187982  ...  2.099131  1.245992  2.196346   \n",
       "44065  5.182765  0.278077  0.900888  ...  2.654907  1.836980  2.177469   \n",
       "46315  1.013516  4.117167  3.397439  ...  1.619761  3.365931  3.530021   \n",
       "2647   5.687325  1.459259  1.946915  ...  3.108523  2.986853  1.745296   \n",
       "13805  3.958759  1.637763  1.324819  ...  1.384795  2.273433  1.024344   \n",
       "\n",
       "          33976     36670     36221     21970     39628     46991     32698  \n",
       "15798  2.543072  1.350018  0.740253  0.475870  4.226575  0.943853  1.521296  \n",
       "44065  3.188312  1.663326  0.401294  1.168858  4.693931  0.345630  1.844240  \n",
       "46315  0.991279  2.816094  3.946084  3.266894  1.735079  4.231004  2.699155  \n",
       "2647   3.798026  1.916919  1.027262  2.239401  4.825417  0.851182  2.055035  \n",
       "13805  2.106820  0.188648  1.158892  1.504456  3.209002  1.412071  0.340878  \n",
       "\n",
       "[5 rows x 4755 columns]"
      ]
     },
     "execution_count": 15,
     "metadata": {},
     "output_type": "execute_result"
    }
   ],
   "source": [
    "df_dist.head()"
   ]
  },
  {
   "cell_type": "code",
   "execution_count": 16,
   "metadata": {},
   "outputs": [
    {
     "data": {
      "text/html": [
       "<div>\n",
       "<style scoped>\n",
       "    .dataframe tbody tr th:only-of-type {\n",
       "        vertical-align: middle;\n",
       "    }\n",
       "\n",
       "    .dataframe tbody tr th {\n",
       "        vertical-align: top;\n",
       "    }\n",
       "\n",
       "    .dataframe thead th {\n",
       "        text-align: right;\n",
       "    }\n",
       "</style>\n",
       "<table border=\"1\" class=\"dataframe\">\n",
       "  <thead>\n",
       "    <tr style=\"text-align: right;\">\n",
       "      <th></th>\n",
       "      <th>15798</th>\n",
       "      <th>44065</th>\n",
       "      <th>46315</th>\n",
       "      <th>2647</th>\n",
       "      <th>13805</th>\n",
       "      <th>30989</th>\n",
       "      <th>12238</th>\n",
       "      <th>25538</th>\n",
       "      <th>40356</th>\n",
       "      <th>40287</th>\n",
       "      <th>...</th>\n",
       "      <th>21009</th>\n",
       "      <th>46961</th>\n",
       "      <th>30665</th>\n",
       "      <th>33976</th>\n",
       "      <th>36670</th>\n",
       "      <th>36221</th>\n",
       "      <th>21970</th>\n",
       "      <th>39628</th>\n",
       "      <th>46991</th>\n",
       "      <th>32698</th>\n",
       "    </tr>\n",
       "  </thead>\n",
       "  <tbody>\n",
       "    <tr>\n",
       "      <td>15798</td>\n",
       "      <td>0.0</td>\n",
       "      <td>0.0</td>\n",
       "      <td>0.0</td>\n",
       "      <td>0.0</td>\n",
       "      <td>0.0</td>\n",
       "      <td>0.0</td>\n",
       "      <td>0.0</td>\n",
       "      <td>0.000000</td>\n",
       "      <td>0.0</td>\n",
       "      <td>0.187982</td>\n",
       "      <td>...</td>\n",
       "      <td>0.0</td>\n",
       "      <td>0.0</td>\n",
       "      <td>0.0</td>\n",
       "      <td>0.0</td>\n",
       "      <td>0.0</td>\n",
       "      <td>0.0</td>\n",
       "      <td>0.0</td>\n",
       "      <td>0.0</td>\n",
       "      <td>0.0</td>\n",
       "      <td>0.0</td>\n",
       "    </tr>\n",
       "    <tr>\n",
       "      <td>44065</td>\n",
       "      <td>0.0</td>\n",
       "      <td>0.0</td>\n",
       "      <td>0.0</td>\n",
       "      <td>0.0</td>\n",
       "      <td>0.0</td>\n",
       "      <td>0.0</td>\n",
       "      <td>0.0</td>\n",
       "      <td>0.000000</td>\n",
       "      <td>0.0</td>\n",
       "      <td>0.000000</td>\n",
       "      <td>...</td>\n",
       "      <td>0.0</td>\n",
       "      <td>0.0</td>\n",
       "      <td>0.0</td>\n",
       "      <td>0.0</td>\n",
       "      <td>0.0</td>\n",
       "      <td>0.0</td>\n",
       "      <td>0.0</td>\n",
       "      <td>0.0</td>\n",
       "      <td>0.0</td>\n",
       "      <td>0.0</td>\n",
       "    </tr>\n",
       "    <tr>\n",
       "      <td>46315</td>\n",
       "      <td>0.0</td>\n",
       "      <td>0.0</td>\n",
       "      <td>0.0</td>\n",
       "      <td>0.0</td>\n",
       "      <td>0.0</td>\n",
       "      <td>0.0</td>\n",
       "      <td>0.0</td>\n",
       "      <td>1.013516</td>\n",
       "      <td>0.0</td>\n",
       "      <td>0.000000</td>\n",
       "      <td>...</td>\n",
       "      <td>0.0</td>\n",
       "      <td>0.0</td>\n",
       "      <td>0.0</td>\n",
       "      <td>0.0</td>\n",
       "      <td>0.0</td>\n",
       "      <td>0.0</td>\n",
       "      <td>0.0</td>\n",
       "      <td>0.0</td>\n",
       "      <td>0.0</td>\n",
       "      <td>0.0</td>\n",
       "    </tr>\n",
       "    <tr>\n",
       "      <td>2647</td>\n",
       "      <td>0.0</td>\n",
       "      <td>0.0</td>\n",
       "      <td>0.0</td>\n",
       "      <td>0.0</td>\n",
       "      <td>0.0</td>\n",
       "      <td>0.0</td>\n",
       "      <td>0.0</td>\n",
       "      <td>0.000000</td>\n",
       "      <td>0.0</td>\n",
       "      <td>0.000000</td>\n",
       "      <td>...</td>\n",
       "      <td>0.0</td>\n",
       "      <td>0.0</td>\n",
       "      <td>0.0</td>\n",
       "      <td>0.0</td>\n",
       "      <td>0.0</td>\n",
       "      <td>0.0</td>\n",
       "      <td>0.0</td>\n",
       "      <td>0.0</td>\n",
       "      <td>0.0</td>\n",
       "      <td>0.0</td>\n",
       "    </tr>\n",
       "    <tr>\n",
       "      <td>13805</td>\n",
       "      <td>0.0</td>\n",
       "      <td>0.0</td>\n",
       "      <td>0.0</td>\n",
       "      <td>0.0</td>\n",
       "      <td>0.0</td>\n",
       "      <td>0.0</td>\n",
       "      <td>0.0</td>\n",
       "      <td>0.000000</td>\n",
       "      <td>0.0</td>\n",
       "      <td>0.000000</td>\n",
       "      <td>...</td>\n",
       "      <td>0.0</td>\n",
       "      <td>0.0</td>\n",
       "      <td>0.0</td>\n",
       "      <td>0.0</td>\n",
       "      <td>0.0</td>\n",
       "      <td>0.0</td>\n",
       "      <td>0.0</td>\n",
       "      <td>0.0</td>\n",
       "      <td>0.0</td>\n",
       "      <td>0.0</td>\n",
       "    </tr>\n",
       "  </tbody>\n",
       "</table>\n",
       "<p>5 rows × 4755 columns</p>\n",
       "</div>"
      ],
      "text/plain": [
       "       15798  44065  46315  2647   13805  30989  12238     25538  40356  \\\n",
       "15798    0.0    0.0    0.0    0.0    0.0    0.0    0.0  0.000000    0.0   \n",
       "44065    0.0    0.0    0.0    0.0    0.0    0.0    0.0  0.000000    0.0   \n",
       "46315    0.0    0.0    0.0    0.0    0.0    0.0    0.0  1.013516    0.0   \n",
       "2647     0.0    0.0    0.0    0.0    0.0    0.0    0.0  0.000000    0.0   \n",
       "13805    0.0    0.0    0.0    0.0    0.0    0.0    0.0  0.000000    0.0   \n",
       "\n",
       "          40287  ...  21009  46961  30665  33976  36670  36221  21970  39628  \\\n",
       "15798  0.187982  ...    0.0    0.0    0.0    0.0    0.0    0.0    0.0    0.0   \n",
       "44065  0.000000  ...    0.0    0.0    0.0    0.0    0.0    0.0    0.0    0.0   \n",
       "46315  0.000000  ...    0.0    0.0    0.0    0.0    0.0    0.0    0.0    0.0   \n",
       "2647   0.000000  ...    0.0    0.0    0.0    0.0    0.0    0.0    0.0    0.0   \n",
       "13805  0.000000  ...    0.0    0.0    0.0    0.0    0.0    0.0    0.0    0.0   \n",
       "\n",
       "       46991  32698  \n",
       "15798    0.0    0.0  \n",
       "44065    0.0    0.0  \n",
       "46315    0.0    0.0  \n",
       "2647     0.0    0.0  \n",
       "13805    0.0    0.0  \n",
       "\n",
       "[5 rows x 4755 columns]"
      ]
     },
     "execution_count": 16,
     "metadata": {},
     "output_type": "execute_result"
    }
   ],
   "source": [
    "# Get the k nearest neighbour from each node\n",
    "for column in df_dist:\n",
    "    column_values = df_dist[column].to_numpy() # Transforming column of dataframe into numpy array\n",
    "    number_of_neighbour = 101 # Number of neighbour we want\n",
    "    result = np.argpartition(column_values, number_of_neighbour) # Get indexes from min values\n",
    "    min_values = column_values[result[:number_of_neighbour]] # Get min values from indexes\n",
    "    min_values_sorted = np.sort(min_values) # Sort the min values\n",
    "    threshold = min_values_sorted[-1] # taking the max of the min values to thersold\n",
    "    df_dist[column] = df_dist[column].where(df_dist[column] <= threshold, 0)\n",
    "    \n",
    "df_dist.head()"
   ]
  },
  {
   "cell_type": "code",
   "execution_count": 17,
   "metadata": {},
   "outputs": [
    {
     "name": "stdout",
     "output_type": "stream",
     "text": [
      "The mean distance is 0.004264343842786116\n"
     ]
    }
   ],
   "source": [
    "mean = df_dist.mean().mean()\n",
    "print('The mean distance is {m}'.format(m=mean))"
   ]
  },
  {
   "cell_type": "code",
   "execution_count": 18,
   "metadata": {},
   "outputs": [],
   "source": [
    "epsilon = 0.2\n",
    "sigma = mean * 0.7\n",
    "def sparsify(x):\n",
    "    sigm_x = np.exp(- x**2 / (2*sigma**2))\n",
    "    if sigm_x < epsilon:\n",
    "        return 0\n",
    "    return sigm_x"
   ]
  },
  {
   "cell_type": "code",
   "execution_count": 19,
   "metadata": {},
   "outputs": [
    {
     "name": "stdout",
     "output_type": "stream",
     "text": [
      "there are 22135168 non-zero entries\n"
     ]
    }
   ],
   "source": [
    "# compute weights of the edges, sparsifying.\n",
    "df_dist_s = df_dist.applymap(sparsify)\n",
    "print('there are {i} non-zero entries'.format(i = df_dist_s.astype(bool).sum().sum()))"
   ]
  },
  {
   "cell_type": "code",
   "execution_count": 20,
   "metadata": {},
   "outputs": [
    {
     "data": {
      "image/png": "[encoded data removed]",
      "text/plain": [
       "<Figure size 432x288 with 1 Axes>"
      ]
     },
     "metadata": {
      "needs_background": "light"
     },
     "output_type": "display_data"
    }
   ],
   "source": [
    "# create adjacency matrix, as a numpy array\n",
    "adj = df_dist_s.values - np.eye(df_dist_s.shape[0])\n",
    "adj = df_dist.values\n",
    "plt.spy(adj)\n",
    "plt.show()"
   ]
  },
  {
   "cell_type": "code",
   "execution_count": 21,
   "metadata": {},
   "outputs": [],
   "source": [
    "# dictionnary to rename the labels of the nodes according to their indice in the df\n",
    "nodes_labels = dict(zip(np.arange(n), df_dist_s.index))"
   ]
  },
  {
   "cell_type": "markdown",
   "metadata": {},
   "source": [
    "#### Exploration | Using NetworkX for vizualization (it's faster than pygsp)\n",
    "Inspecting some of the features"
   ]
  },
  {
   "cell_type": "code",
   "execution_count": 22,
   "metadata": {},
   "outputs": [
    {
     "data": {
      "text/plain": [
       "Manhattan        1968\n",
       "Brooklyn         1916\n",
       "Queens            695\n",
       "Bronx             123\n",
       "Staten Island      53\n",
       "Name: neighbourhood_group, dtype: int64"
      ]
     },
     "execution_count": 22,
     "metadata": {},
     "output_type": "execute_result"
    }
   ],
   "source": [
    "# different neighbourhood\n",
    "df_red.neighbourhood_group.value_counts()"
   ]
  },
  {
   "cell_type": "code",
   "execution_count": 23,
   "metadata": {},
   "outputs": [
    {
     "data": {
      "text/plain": [
       "Entire home/apt    2427\n",
       "Private room       2193\n",
       "Shared room         135\n",
       "Name: room_type, dtype: int64"
      ]
     },
     "execution_count": 23,
     "metadata": {},
     "output_type": "execute_result"
    }
   ],
   "source": [
    "# different room types\n",
    "df_red.room_type.value_counts()"
   ]
  },
  {
   "cell_type": "code",
   "execution_count": 24,
   "metadata": {},
   "outputs": [],
   "source": [
    "# create networkx graph, renaming nodes\n",
    "import networkx as nx\n",
    "\n",
    "G = nx.from_numpy_matrix(adj)\n",
    "G = nx.relabel_nodes(G, nodes_labels)"
   ]
  },
  {
   "cell_type": "code",
   "execution_count": 25,
   "metadata": {},
   "outputs": [
    {
     "data": {
      "image/png": "[encoded data removed]",
      "text/plain": [
       "<Figure size 432x288 with 1 Axes>"
      ]
     },
     "metadata": {
      "needs_background": "light"
     },
     "output_type": "display_data"
    }
   ],
   "source": [
    "# Plotting the degree distribution\n",
    "plt.hist([G.degree(n) for n in G.nodes()], bins=100)\n",
    "plt.show()"
   ]
  },
  {
   "cell_type": "code",
   "execution_count": 26,
   "metadata": {},
   "outputs": [
    {
     "name": "stdout",
     "output_type": "stream",
     "text": [
      "119.1011566771819\n"
     ]
    }
   ],
   "source": [
    "degree_distri = np.asarray([G.degree(n) for n in G.nodes()])\n",
    "average_degree = (1/G.number_of_nodes())*degree_distri.sum()\n",
    "print(average_degree)"
   ]
  },
  {
   "cell_type": "code",
   "execution_count": 27,
   "metadata": {},
   "outputs": [],
   "source": [
    "#nx.average_clustering(G)"
   ]
  },
  {
   "cell_type": "code",
   "execution_count": 28,
   "metadata": {},
   "outputs": [
    {
     "name": "stdout",
     "output_type": "stream",
     "text": [
      "The diameter is: -1\n"
     ]
    }
   ],
   "source": [
    "# DON'T RUN IF NO CONNECTED GRAPH\n",
    "# check if the graph is connected, and compute the diameter\n",
    "# epsilon=0.2 and c=0.7 gives connected graph for n=5000 but doesn't work with spectral clustering...\n",
    "# epsilon=0.5 and c=0.1 gives not connected graph for n=5000 but work with spectral clustering (3 clusters)...\n",
    "diameter_matrix = np.zeros([len(adj), len(adj)])\n",
    "\n",
    "# loop until all elements are non-zero\n",
    "diameter = -1\n",
    "for i in range(0, 10):\n",
    "    diameter_matrix += np.linalg.matrix_power(adj, i)\n",
    "    if diameter_matrix.all() == True:\n",
    "        diameter = i\n",
    "        break\n",
    "\n",
    "print(f\"The diameter is: {diameter}\")"
   ]
  },
  {
   "cell_type": "code",
   "execution_count": 29,
   "metadata": {},
   "outputs": [
    {
     "data": {
      "image/png": "[encoded data removed]",
      "text/plain": [
       "<Figure size 432x288 with 1 Axes>"
      ]
     },
     "metadata": {},
     "output_type": "display_data"
    }
   ],
   "source": [
    "# Network visualization without fixing the position of nodes i.e. based only on distances between them\n",
    "nx.draw_networkx(G, with_labels=False, node_size=0.1, node_color='orange', width=0.05, edgelist=[])\n",
    "plt.show()"
   ]
  },
  {
   "cell_type": "code",
   "execution_count": 30,
   "metadata": {},
   "outputs": [],
   "source": [
    "# create dictionnary for nodes positions (such that the graph is plotted accordinf to NY shape)\n",
    "coord_dict = df_red.utm.to_dict()"
   ]
  },
  {
   "cell_type": "code",
   "execution_count": 31,
   "metadata": {},
   "outputs": [
    {
     "data": {
      "image/png": "[encoded data removed]",
      "text/plain": [
       "<Figure size 864x576 with 1 Axes>"
      ]
     },
     "metadata": {},
     "output_type": "display_data"
    }
   ],
   "source": [
    "# graph of the airbnb with fixed position\n",
    "# take time when lot of edges, set edgelist=[] or remove 'edgelist' parameter to plot edges\n",
    "plt.figure(figsize=(12,8))\n",
    "nx.draw_networkx(G, pos=coord_dict, with_labels=False, node_size=0.1, node_color='orange', width=0.05, edgelist=[])\n",
    "plt.show()"
   ]
  },
  {
   "cell_type": "code",
   "execution_count": 32,
   "metadata": {},
   "outputs": [],
   "source": [
    "# We plot the airbnb with different color according to their neighbouhood\n",
    "\n",
    "neighbourhoud_to_int = {\n",
    "    'Manhattan': 1,\n",
    "    'Brooklyn': 2,\n",
    "    'Queens': 3,\n",
    "    'Bronx': 4,\n",
    "    'Staten Island': 5\n",
    "}"
   ]
  },
  {
   "cell_type": "code",
   "execution_count": 33,
   "metadata": {},
   "outputs": [],
   "source": [
    "# transforming neigbourhood names and room types strings into an indice\n",
    "df_red['neighbourhood_group_indice'] = df_red.neighbourhood_group.apply(lambda x: neighbourhoud_to_int.get(x)).values"
   ]
  },
  {
   "cell_type": "code",
   "execution_count": 34,
   "metadata": {},
   "outputs": [
    {
     "data": {
      "image/png": "[encoded data removed]",
      "text/plain": [
       "<Figure size 864x576 with 1 Axes>"
      ]
     },
     "metadata": {},
     "output_type": "display_data"
    }
   ],
   "source": [
    "# graph of the airbnb with groundtruth\n",
    "plt.figure(figsize=(12,8))\n",
    "nx.draw_networkx(G, pos=coord_dict, with_labels=False, node_size=0.1, cmap=plt.get_cmap('rainbow'), node_color=df_red.neighbourhood_group_indice, edgelist=[])\n",
    "plt.show()"
   ]
  },
  {
   "cell_type": "code",
   "execution_count": 35,
   "metadata": {},
   "outputs": [],
   "source": [
    "#Graph analysis with gsp\n",
    "from pygsp import graphs, filters, plotting\n",
    "from pygsp.graphs import Graph\n",
    "\n",
    "G_gsp = graphs.Graph(adj)"
   ]
  },
  {
   "cell_type": "code",
   "execution_count": 36,
   "metadata": {},
   "outputs": [
    {
     "data": {
      "text/plain": [
       "True"
      ]
     },
     "execution_count": 36,
     "metadata": {},
     "output_type": "execute_result"
    }
   ],
   "source": [
    "G_gsp.is_connected()"
   ]
  },
  {
   "cell_type": "code",
   "execution_count": 37,
   "metadata": {},
   "outputs": [],
   "source": [
    "G_gsp.set_coordinates(kind=np.array(list(coord_dict.values())))"
   ]
  },
  {
   "cell_type": "code",
   "execution_count": 38,
   "metadata": {},
   "outputs": [
    {
     "name": "stderr",
     "output_type": "stream",
     "text": [
      "2020-01-09 15:40:52,566:[WARNING](pygsp.graphs.graph.compute_fourier_basis): Computing the full eigendecomposition of a large matrix (4755 x 4755) may take some time.\n"
     ]
    }
   ],
   "source": [
    "# computing laplacian of graph\n",
    "lap_comb = G_gsp.compute_laplacian(lap_type='combinatorial') # 'combinatorial' or 'normalized'\n",
    "\n",
    "# computing eigendecomposition of the laplacian\n",
    "G_gsp.compute_fourier_basis(recompute=True)"
   ]
  },
  {
   "cell_type": "code",
   "execution_count": 39,
   "metadata": {},
   "outputs": [
    {
     "data": {
      "image/png": "[encoded data removed]",
      "text/plain": [
       "<Figure size 432x288 with 1 Axes>"
      ]
     },
     "metadata": {
      "needs_background": "light"
     },
     "output_type": "display_data"
    }
   ],
   "source": [
    "plt.plot(G_gsp.e);"
   ]
  },
  {
   "cell_type": "code",
   "execution_count": 40,
   "metadata": {},
   "outputs": [
    {
     "ename": "NotImplementedError",
     "evalue": "Directed graphs with normalized Laplacian not supported yet.",
     "output_type": "error",
     "traceback": [
      "\u001b[1;31m---------------------------------------------------------------------------\u001b[0m",
      "\u001b[1;31mNotImplementedError\u001b[0m                       Traceback (most recent call last)",
      "\u001b[1;32m<ipython-input-40-a57d127b0818>\u001b[0m in \u001b[0;36m<module>\u001b[1;34m\u001b[0m\n\u001b[0;32m      1\u001b[0m \u001b[1;31m# computing laplacian of graph\u001b[0m\u001b[1;33m\u001b[0m\u001b[1;33m\u001b[0m\u001b[1;33m\u001b[0m\u001b[0m\n\u001b[1;32m----> 2\u001b[1;33m \u001b[0mlap_norm\u001b[0m \u001b[1;33m=\u001b[0m \u001b[0mG_gsp\u001b[0m\u001b[1;33m.\u001b[0m\u001b[0mcompute_laplacian\u001b[0m\u001b[1;33m(\u001b[0m\u001b[0mlap_type\u001b[0m\u001b[1;33m=\u001b[0m\u001b[1;34m'normalized'\u001b[0m\u001b[1;33m)\u001b[0m \u001b[1;31m# 'combinatorial' or 'normalized'\u001b[0m\u001b[1;33m\u001b[0m\u001b[1;33m\u001b[0m\u001b[0m\n\u001b[0m\u001b[0;32m      3\u001b[0m \u001b[1;33m\u001b[0m\u001b[0m\n\u001b[0;32m      4\u001b[0m \u001b[1;31m# computing eigendecomposition of the laplacian\u001b[0m\u001b[1;33m\u001b[0m\u001b[1;33m\u001b[0m\u001b[1;33m\u001b[0m\u001b[0m\n\u001b[0;32m      5\u001b[0m \u001b[0mG_gsp\u001b[0m\u001b[1;33m.\u001b[0m\u001b[0mcompute_fourier_basis\u001b[0m\u001b[1;33m(\u001b[0m\u001b[0mrecompute\u001b[0m\u001b[1;33m=\u001b[0m\u001b[1;32mTrue\u001b[0m\u001b[1;33m)\u001b[0m\u001b[1;33m\u001b[0m\u001b[1;33m\u001b[0m\u001b[0m\n",
      "\u001b[1;32m~\\Miniconda3\\envs\\ntds_2019\\lib\\site-packages\\pygsp\\graphs\\graph.py\u001b[0m in \u001b[0;36mcompute_laplacian\u001b[1;34m(self, lap_type)\u001b[0m\n\u001b[0;32m    484\u001b[0m \u001b[1;33m\u001b[0m\u001b[0m\n\u001b[0;32m    485\u001b[0m             \u001b[1;32melif\u001b[0m \u001b[0mlap_type\u001b[0m \u001b[1;33m==\u001b[0m \u001b[1;34m'normalized'\u001b[0m\u001b[1;33m:\u001b[0m\u001b[1;33m\u001b[0m\u001b[1;33m\u001b[0m\u001b[0m\n\u001b[1;32m--> 486\u001b[1;33m                 raise NotImplementedError('Directed graphs with normalized '\n\u001b[0m\u001b[0;32m    487\u001b[0m                                           'Laplacian not supported yet.')\n\u001b[0;32m    488\u001b[0m \u001b[1;33m\u001b[0m\u001b[0m\n",
      "\u001b[1;31mNotImplementedError\u001b[0m: Directed graphs with normalized Laplacian not supported yet."
     ]
    }
   ],
   "source": [
    "# computing laplacian of graph\n",
    "lap_norm = G_gsp.compute_laplacian(lap_type='normalized') # 'combinatorial' or 'normalized'\n",
    "\n",
    "# computing eigendecomposition of the laplacian\n",
    "G_gsp.compute_fourier_basis(recompute=True)"
   ]
  },
  {
   "cell_type": "code",
   "execution_count": null,
   "metadata": {},
   "outputs": [],
   "source": [
    "plt.plot(G_gsp.e);"
   ]
  },
  {
   "cell_type": "code",
   "execution_count": null,
   "metadata": {},
   "outputs": [],
   "source": [
    "# an eigenvector\n",
    "eigenevector_index = 0\n",
    "#G_gsp.U[:,eigenevector_index]"
   ]
  },
  {
   "cell_type": "code",
   "execution_count": null,
   "metadata": {},
   "outputs": [],
   "source": [
    "# plot of one of the eigenvector\n",
    "eigenevector_index = 0\n",
    "fig, axes = plt.subplots(1, 1, figsize=(15, 8))\n",
    "G_gsp.plot_signal(signal=G_gsp.U[:, eigenevector_index],vertex_size=0.5,ax=axes)\n",
    "\n",
    "# WHY FIRST EIGENVECTOR NOT CONSTANT ????\n",
    "\n",
    "eigenevector_index = 100\n",
    "fig, axes = plt.subplots(1, 1, figsize=(15, 8))\n",
    "G_gsp.plot_signal(signal=G_gsp.U[:, eigenevector_index],vertex_size=0.5,ax=axes)"
   ]
  },
  {
   "cell_type": "markdown",
   "metadata": {},
   "source": [
    "### Using spectral clustering to identify the neighbourhoods"
   ]
  },
  {
   "cell_type": "code",
   "execution_count": null,
   "metadata": {},
   "outputs": [],
   "source": [
    "# we keep only the greatest connected component (if graph is not connected)\n",
    "# not very useful to run spectral clustering on disconnected graph\n",
    "Gc = max(nx.connected_component_subgraphs(G), key=len)"
   ]
  },
  {
   "cell_type": "code",
   "execution_count": null,
   "metadata": {},
   "outputs": [],
   "source": [
    "Gc_nodes = max(nx.connected_components(G), key=len)"
   ]
  },
  {
   "cell_type": "code",
   "execution_count": null,
   "metadata": {},
   "outputs": [],
   "source": [
    "# plotting greatest component\n",
    "plt.figure(figsize=(12,8))\n",
    "nx.draw_networkx(Gc, pos=coord_dict, with_labels=False, node_size=0.1, node_color='orange', width=0.05, edgelist=[])\n",
    "plt.show()"
   ]
  },
  {
   "cell_type": "markdown",
   "metadata": {},
   "source": [
    "Running spectral clustering on the biggest connected component"
   ]
  },
  {
   "cell_type": "code",
   "execution_count": null,
   "metadata": {},
   "outputs": [],
   "source": [
    "# adacency matrix of gc\n",
    "adj_c = nx.adjacency_matrix(Gc)"
   ]
  },
  {
   "cell_type": "code",
   "execution_count": null,
   "metadata": {},
   "outputs": [],
   "source": [
    "# computing labels from spectral clustering\n",
    "from sklearn.cluster import SpectralClustering\n",
    "sc = SpectralClustering(n_clusters=3, eigen_solver='amg', affinity='precomputed', n_init=100)\n",
    "sc.fit(adj)"
   ]
  },
  {
   "cell_type": "code",
   "execution_count": null,
   "metadata": {},
   "outputs": [],
   "source": [
    "# displaying result of spectrcal clustering\n",
    "plt.figure(figsize=(12,8))\n",
    "nx.draw_networkx(Gc, pos=coord_dict, with_labels=False, node_size=0.1, cmap=plt.get_cmap('rainbow'), node_color=sc.labels_, width=0.05, edgelist=[])\n",
    "plt.show()"
   ]
  },
  {
   "cell_type": "markdown",
   "metadata": {},
   "source": [
    "### Using PyGSP for graph spectral analysis"
   ]
  },
  {
   "cell_type": "code",
   "execution_count": null,
   "metadata": {},
   "outputs": [],
   "source": [
    "from pygsp import graphs, filters, plotting\n",
    "from pygsp.graphs import Graph"
   ]
  },
  {
   "cell_type": "code",
   "execution_count": null,
   "metadata": {},
   "outputs": [],
   "source": [
    "G_gsp = graphs.Graph(adj) # using adj and not adj_c, we need the whole graph\n",
    "print('{} nodes, {} edges'.format(G_gsp.N, G_gsp.Ne))"
   ]
  },
  {
   "cell_type": "code",
   "execution_count": null,
   "metadata": {},
   "outputs": [],
   "source": [
    "G_gsp.is_connected()"
   ]
  },
  {
   "cell_type": "code",
   "execution_count": null,
   "metadata": {},
   "outputs": [],
   "source": [
    "G_gsp.set_coordinates(kind=np.array(list(coord_dict.values())))"
   ]
  },
  {
   "cell_type": "markdown",
   "metadata": {},
   "source": [
    "### Computing laplacian "
   ]
  },
  {
   "cell_type": "code",
   "execution_count": null,
   "metadata": {},
   "outputs": [],
   "source": [
    "# computing laplacian of graph\n",
    "G_gsp.compute_laplacian(lap_type='normalized') # 'combinatorial' or 'normalized'"
   ]
  },
  {
   "cell_type": "code",
   "execution_count": null,
   "metadata": {},
   "outputs": [],
   "source": [
    "# computing eigendecomposition of the laplacian\n",
    "G_gsp.compute_fourier_basis(recompute=True)"
   ]
  },
  {
   "cell_type": "code",
   "execution_count": null,
   "metadata": {},
   "outputs": [],
   "source": [
    "# plot of the eigenvalues\n",
    "plt.plot(G_gsp.e);"
   ]
  },
  {
   "cell_type": "code",
   "execution_count": null,
   "metadata": {},
   "outputs": [],
   "source": [
    "# an eigenvector\n",
    "eigenevector_index = 0\n",
    "G_gsp.U[:,eigenevector_index]"
   ]
  },
  {
   "cell_type": "code",
   "execution_count": null,
   "metadata": {},
   "outputs": [],
   "source": [
    "# plot of one of the eigenvector\n",
    "eigenevector_index = 0\n",
    "fig, axes = plt.subplots(1, 1, figsize=(15, 8))\n",
    "G_gsp.plot_signal(signal=G_gsp.U[:, eigenevector_index],vertex_size=0.5,ax=axes)\n",
    "\n",
    "# WHY FIRST EIGENVECTOR NOT CONSTANT ????"
   ]
  },
  {
   "cell_type": "markdown",
   "metadata": {},
   "source": [
    "### Prediction of the price\n",
    "\n",
    "The goal of this section is the predict the price of airbnbs. We will first use Machine Learning techniques, and then spectral filtering to improve the result. We'll use the assumptions that close airbnbs should have close price."
   ]
  },
  {
   "cell_type": "code",
   "execution_count": null,
   "metadata": {},
   "outputs": [],
   "source": [
    "# groundtruth of the price\n",
    "fig, axes = plt.subplots(1, 1, figsize=(15, 8))\n",
    "G_gsp.plot_signal(signal=df_red.price,vertex_size=0.5, limits=[0, upper_bound], ax=axes)"
   ]
  },
  {
   "cell_type": "code",
   "execution_count": null,
   "metadata": {},
   "outputs": [],
   "source": [
    "shuffled_index = df_red.sample(frac=1).index\n",
    "reordered_index = df_red.index\n",
    "df_red.fillna(0, inplace=True) # there are nan values in 'last_review' and 'reviews_per_month' features\n",
    "df_red.head(1)"
   ]
  },
  {
   "cell_type": "code",
   "execution_count": null,
   "metadata": {},
   "outputs": [],
   "source": [
    "def normalize_serie(x):\n",
    "    return (x - x.mean())/x.std()"
   ]
  },
  {
   "cell_type": "code",
   "execution_count": null,
   "metadata": {},
   "outputs": [],
   "source": [
    "# creating new features for machine learning \n",
    "df_red['manhattan'] = (df_red.neighbourhood_group == 'Manhattan').astype(int)\n",
    "df_red['brooklyn'] = (df_red.neighbourhood_group == 'Brooklyn').astype(int)\n",
    "df_red['queens'] = (df_red.neighbourhood_group == 'Queens').astype(int)\n",
    "df_red['bronx'] = (df_red.neighbourhood_group == 'Bronx').astype(int)\n",
    "df_red['staten_island'] = (df_red.neighbourhood_group == 'Staten Island').astype(int)\n",
    "df_red['home'] = (df_red.room_type == 'Entire home/apt').astype(int)\n",
    "df_red['private_room'] = (df_red.room_type == 'Private room').astype(int)\n",
    "df_red['shared_room'] = (df_red.room_type == 'Shared room').astype(int)"
   ]
  },
  {
   "cell_type": "code",
   "execution_count": null,
   "metadata": {},
   "outputs": [],
   "source": [
    "from sklearn.linear_model import RidgeCV, LinearRegression\n",
    "from sklearn.metrics import mean_squared_error\n",
    "from sklearn.preprocessing import normalize, StandardScaler"
   ]
  },
  {
   "cell_type": "code",
   "execution_count": null,
   "metadata": {},
   "outputs": [],
   "source": [
    "df_red.columns"
   ]
  },
  {
   "cell_type": "code",
   "execution_count": null,
   "metadata": {},
   "outputs": [],
   "source": [
    "# suffling the data\n",
    "df_red.reindex(shuffled_index)\n",
    "\n",
    "# features when need to predict the price\n",
    "features_to_augment = df_red[['utm_x', 'utm_y']].values\n",
    "features_neighbourhood = df_red[['brooklyn', 'queens', 'bronx', 'staten_island']].values\n",
    "features_basics = df_red[['number_of_reviews', 'reviews_per_month', 'availability_365', 'calculated_host_listings_count', 'home', 'private_room', 'shared_room']].values\n",
    "features_known = df_red[['calculated_host_listings_count', 'home', 'private_room', 'shared_room']].values\n",
    "\n"
   ]
  },
  {
   "cell_type": "code",
   "execution_count": null,
   "metadata": {},
   "outputs": [],
   "source": [
    "# augmenting features\n",
    "def build_poly(x, degree):\n",
    "    \"\"\"build polynomial for ridge regression\"\"\"\n",
    "    nb_features = x.shape[1]\n",
    "    nb_samples = x.shape[0]\n",
    "    x_poly = np.ones((nb_samples, 1))\n",
    "    for d in range(1, degree + 1):\n",
    "        x_d = x**d\n",
    "        x_poly = np.hstack((x_poly, x_d))\n",
    "    return x_poly"
   ]
  },
  {
   "cell_type": "code",
   "execution_count": null,
   "metadata": {},
   "outputs": [],
   "source": [
    "features_augmented = build_poly(features_to_augment, 3)\n",
    "# features = np.hstack((features_augmented, features_neighbourhood, features_known))\n",
    "features = np.hstack((features_neighbourhood, features_known))\n",
    "# features = features_basics"
   ]
  },
  {
   "cell_type": "code",
   "execution_count": null,
   "metadata": {},
   "outputs": [],
   "source": [
    "# building a 5-fold ridge regression\n",
    "rr = RidgeCV(fit_intercept=False, normalize=False, cv=5, alphas=np.logspace(-5, -1, 20))\n",
    "rr.fit(X=features, y=df_red.price.values)"
   ]
  },
  {
   "cell_type": "code",
   "execution_count": null,
   "metadata": {},
   "outputs": [],
   "source": [
    "# predicting the price \n",
    "price_pred_1 = rr.predict(X=features)\n",
    "price_pred_1"
   ]
  },
  {
   "cell_type": "code",
   "execution_count": null,
   "metadata": {},
   "outputs": [],
   "source": [
    "mse_1 = mean_squared_error(y_true=df_red.price.values, y_pred=price_pred_1)\n",
    "mse_1"
   ]
  },
  {
   "cell_type": "code",
   "execution_count": null,
   "metadata": {},
   "outputs": [],
   "source": [
    "df_red['price_pred_1'] = price_pred_1\n",
    "df_red.reindex(reordered_index).head(1)"
   ]
  },
  {
   "cell_type": "code",
   "execution_count": null,
   "metadata": {},
   "outputs": [],
   "source": [
    "# predicted price using only ML techniques\n",
    "fig, axes = plt.subplots(1, 1, figsize=(15, 8))\n",
    "G_gsp.plot_signal(signal=df_red.price_pred_1, vertex_size=0.5, limits=[0, upper_bound], ax=axes)"
   ]
  },
  {
   "cell_type": "markdown",
   "metadata": {},
   "source": [
    "### Now let's assume that the price is a signal on our graph"
   ]
  },
  {
   "cell_type": "code",
   "execution_count": null,
   "metadata": {},
   "outputs": [],
   "source": [
    "def GFT(signal: np.ndarray):\n",
    "    return G_gsp.U.T @ signal\n",
    "\n",
    "def iGFT(fourier_coefficients: np.ndarray):\n",
    "    return G_hsp.U @ fourier_coefficients"
   ]
  },
  {
   "cell_type": "code",
   "execution_count": null,
   "metadata": {},
   "outputs": [],
   "source": [
    "# graph spectrum of the price signal\n",
    "plt.figure(figsize=(10, 6))\n",
    "plt.plot(G_gsp.e, np.abs(GFT(df_red.price)), 'g-')\n",
    "plt.xlabel('$\\lambda$')\n",
    "plt.ylabel('GFT')\n",
    "plt.legend(['$price$', '$x$'])\n",
    "plt.plot()"
   ]
  },
  {
   "cell_type": "code",
   "execution_count": null,
   "metadata": {},
   "outputs": [],
   "source": [
    "# ideal Tikhonov regularization filter\n",
    "c = 3\n",
    "# 6 gives good results for basics_features, 3 for features with neighbourhoods\n",
    "\n",
    "alpha = 0.99 / (np.max(G_gsp.e) / c)\n",
    "ideal_tk =  1 / (1 + alpha * G_gsp.e)\n",
    "\n",
    "# low-pass filter\n",
    "ideal_lp = np.ones((G_gsp.N,))\n",
    "threshold = 0.9\n",
    "ideal_lp[G_gsp.e >= threshold] = 0\n",
    "\n",
    "plt.plot(G_gsp.e, ideal_tk, '-', label='Tikhonov')\n",
    "plt.plot(G_gsp.e, ideal_lp, '-', label='LP')\n",
    "plt.xlabel('$\\lambda$')\n",
    "plt.ylabel('Spectral response')\n",
    "plt.legend(loc='lower right')\n",
    "plt.plot()"
   ]
  },
  {
   "cell_type": "code",
   "execution_count": null,
   "metadata": {},
   "outputs": [],
   "source": [
    "ideal_filter = ideal_tk"
   ]
  },
  {
   "cell_type": "code",
   "execution_count": null,
   "metadata": {},
   "outputs": [],
   "source": [
    "# order will be the maximum degree of the polynomial, so there will be order+1 coefficients\n",
    "def fit_polynomial(lam: np.ndarray, order: int, spectral_response: np.ndarray):\n",
    "    \"\"\" Return an array of polynomial coefficients of length 'order'.\"\"\"\n",
    "    vdmd = np.vander(np.sort(lam), order+1, increasing=True)\n",
    "    c, res, rank, s = np.linalg.lstsq(vdmd, spectral_response, rcond=None) # we work in the frequency domain\n",
    "    return c"
   ]
  },
  {
   "cell_type": "code",
   "execution_count": null,
   "metadata": {},
   "outputs": [],
   "source": [
    "def polynomial_graph_filter(coeff: np.array):\n",
    "    \"\"\" Return the laplacian polynomial with coefficients 'coeff'. \"\"\"\n",
    "    e_values = G_gsp.e\n",
    "    e_vectors = G_gsp.U\n",
    "    e_values_filter = polynomial_graph_filter_response(coeff, e_values)\n",
    "    return e_vectors @ np.diag(e_values_filter) @ e_vectors.T"
   ]
  },
  {
   "cell_type": "code",
   "execution_count": null,
   "metadata": {},
   "outputs": [],
   "source": [
    "def polynomial_graph_filter_response(coeff: np.array, lam: np.ndarray):\n",
    "    \"\"\" Return an array of the same shape as lam.\n",
    "        response[i] is the spectral response at frequency lam[i]. \"\"\"\n",
    "    response = np.zeros(lam.shape[0])\n",
    "    order = coeff.shape[0]\n",
    "    for i in range(response.shape[0]): \n",
    "        for k in range(order):\n",
    "            response[i] += coeff[k]*lam[i]**k\n",
    "    return response"
   ]
  },
  {
   "cell_type": "code",
   "execution_count": null,
   "metadata": {},
   "outputs": [],
   "source": [
    "order =  5\n",
    "\n",
    "coeff = fit_polynomial(G_gsp.e, order, ideal_filter)\n",
    "graph_filter = polynomial_graph_filter(coeff)"
   ]
  },
  {
   "cell_type": "code",
   "execution_count": null,
   "metadata": {},
   "outputs": [],
   "source": [
    "plt.plot(G_gsp.e, ideal_filter)\n",
    "plt.plot(G_gsp.e, polynomial_graph_filter_response(coeff, G_gsp.e))\n",
    "plt.legend(['Ideal', 'Polynomial'])\n",
    "plt.xlabel('$\\lambda$')\n",
    "plt.ylabel('Spectral response')"
   ]
  },
  {
   "cell_type": "code",
   "execution_count": null,
   "metadata": {},
   "outputs": [],
   "source": [
    "filtered_features = graph_filter @ features\n",
    "df_red.reindex(shuffled_index);"
   ]
  },
  {
   "cell_type": "code",
   "execution_count": null,
   "metadata": {},
   "outputs": [],
   "source": [
    "rr.fit(X=filtered_features, y=df_red.price.values)"
   ]
  },
  {
   "cell_type": "code",
   "execution_count": null,
   "metadata": {},
   "outputs": [],
   "source": [
    "# predicting the price \n",
    "price_pred_2 = rr.predict(X=filtered_features)"
   ]
  },
  {
   "cell_type": "code",
   "execution_count": null,
   "metadata": {},
   "outputs": [],
   "source": [
    "mse_2 = mean_squared_error(y_true=df_red.price.values, y_pred=price_pred_2)\n",
    "mse_2"
   ]
  },
  {
   "cell_type": "code",
   "execution_count": null,
   "metadata": {},
   "outputs": [],
   "source": [
    "df_red['price_pred_2'] = price_pred_2\n",
    "df_red.reindex(reordered_index);"
   ]
  },
  {
   "cell_type": "code",
   "execution_count": null,
   "metadata": {},
   "outputs": [],
   "source": [
    "# plot the predicted price - very different from the groundtruth!\n",
    "fig, axes = plt.subplots(1, 1, figsize=(15, 8))\n",
    "G_gsp.plot_signal(signal=df_red.price_pred_2, vertex_size=0.5, limits=[0,300], ax=axes)"
   ]
  },
  {
   "cell_type": "code",
   "execution_count": null,
   "metadata": {},
   "outputs": [],
   "source": [
    "print('the price are now more accurate of {:.3f} in average'.format(np.sqrt(mse_1 - mse_2)))"
   ]
  },
  {
   "cell_type": "markdown",
   "metadata": {},
   "source": [
    "### Using Neural Netowrks"
   ]
  },
  {
   "cell_type": "code",
   "execution_count": null,
   "metadata": {},
   "outputs": [],
   "source": [
    "from keras.preprocessing import sequence\n",
    "from keras.preprocessing.text import Tokenizer\n",
    "from keras.preprocessing.sequence import pad_sequences\n",
    "from keras.models import Sequential\n",
    "from keras.layers import Dense, Embedding, LSTM, Conv1D, MaxPooling1D\n",
    "import tensorflow as tf"
   ]
  },
  {
   "cell_type": "code",
   "execution_count": null,
   "metadata": {},
   "outputs": [],
   "source": [
    "features_size = features.shape[1]\n",
    "\n",
    "# Neural network\n",
    "model = Sequential()\n",
    "model.add(Conv1D(filters=3, kernel_size=2, activation='relu', input_dim=features_size))\n",
    "model.add(MaxPooling1D(pool_size=2))\n",
    "model.add(Dense(4, activation='relu'))\n",
    "model.add(Dense(1, activation='relu'))\n",
    "\n",
    "model.compile(loss='mean_squared_error', optimizer='adam', metrics=['mse'])\n",
    "model.summary()"
   ]
  },
  {
   "cell_type": "code",
   "execution_count": null,
   "metadata": {},
   "outputs": [],
   "source": [
    "df_red.reindex(shuffled_index)\n",
    "history = model.fit(filtered_features, df_red.price, epochs=100, batch_size=4)"
   ]
  },
  {
   "cell_type": "code",
   "execution_count": null,
   "metadata": {},
   "outputs": [],
   "source": [
    "plt.plot(history.history['mean_squared_error'])\n",
    "plt.ylabel('MSE')\n",
    "plt.xlabel('Epoch')\n",
    "plt.legend(['Train', 'Test'], loc='upper left')\n",
    "plt.show()"
   ]
  },
  {
   "cell_type": "code",
   "execution_count": null,
   "metadata": {},
   "outputs": [],
   "source": []
  },
  {
   "cell_type": "code",
   "execution_count": null,
   "metadata": {},
   "outputs": [],
   "source": []
  },
  {
   "cell_type": "code",
   "execution_count": null,
   "metadata": {},
   "outputs": [],
   "source": []
  },
  {
   "cell_type": "code",
   "execution_count": null,
   "metadata": {},
   "outputs": [],
   "source": []
  },
  {
   "cell_type": "code",
   "execution_count": null,
   "metadata": {},
   "outputs": [],
   "source": []
  },
  {
   "cell_type": "code",
   "execution_count": null,
   "metadata": {},
   "outputs": [],
   "source": []
  }
 ],
 "metadata": {
  "kernelspec": {
   "display_name": "Python 3",
   "language": "python",
   "name": "python3"
  },
  "language_info": {
   "codemirror_mode": {
    "name": "ipython",
    "version": 3
   },
   "file_extension": ".py",
   "mimetype": "text/x-python",
   "name": "python",
   "nbconvert_exporter": "python",
   "pygments_lexer": "ipython3",
   "version": "3.7.3"
  }
 },
 "nbformat": 4,
 "nbformat_minor": 4
}
